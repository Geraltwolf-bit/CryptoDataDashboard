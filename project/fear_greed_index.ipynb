{
 "cells": [
  {
   "cell_type": "code",
   "execution_count": null,
   "id": "aa6218dd",
   "metadata": {},
   "outputs": [],
   "source": [
    "import requests\n",
    "import pandas as pd\n",
    "def get_index():\n",
    "    url = f\"https://api.alternative.me/fng/\"\n",
    "    try:\n",
    "        response = requests.get(url, timeout=10)\n",
    "        response.raise_for_status()\n",
    "        data = response.json()\n",
    "        print(f\"data is type: {type(data)}\")\n",
    "        return data\n",
    "    except requests.exceptions.RequestException as e:\n",
    "        print(f\"Error getting fear&greed data: {e}\")\n",
    "        return None"
   ]
  },
  {
   "cell_type": "code",
   "execution_count": 2,
   "id": "9acbd294",
   "metadata": {},
   "outputs": [
    {
     "data": {
      "text/plain": [
       "{'name': 'Fear and Greed Index',\n",
       " 'data': [{'value': '64',\n",
       "   'value_classification': 'Greed',\n",
       "   'timestamp': '1759363200',\n",
       "   'time_until_update': '51225'}],\n",
       " 'metadata': {'error': None}}"
      ]
     },
     "execution_count": 2,
     "metadata": {},
     "output_type": "execute_result"
    }
   ],
   "source": [
    "index_data = get_index()\n",
    "index_data"
   ]
  },
  {
   "cell_type": "code",
   "execution_count": null,
   "id": "bc1b1c54",
   "metadata": {},
   "outputs": [],
   "source": [
    "from datetime import datetime\n",
    "\n",
    "def figure_index(data):\n",
    "    if not data or 'data' not in data:\n",
    "        print(\"No data to clean\")\n",
    "        return None\n",
    "    try:\n",
    "        data_list = data['data']\n",
    "        df = pd.DataFrame(data_list)\n",
    "        df['timestamp'] = pd.to_numeric(df['timestamp'], errors = 'coerce')\n",
    "        df['timestamp'] = pd.to_datetime(df['timestamp'], unit = 's')\n",
    "        df = df.drop(columns=['time_until_update'])\n",
    "        df = df.rename(columns = {'value': 'value', 'value_classification': 'index', 'timestamp': 'date'})\n",
    "        df = df[['date', 'index', 'value']]\n",
    "        print(f\"data is type: {type(df)}\")\n",
    "        return df\n",
    "    except Exception as e:\n",
    "        print(f\"Error cleaning fear&greed data: {e}\")\n",
    "        return None"
   ]
  },
  {
   "cell_type": "code",
   "execution_count": null,
   "id": "073cca34",
   "metadata": {},
   "outputs": [
    {
     "data": {
      "text/html": [
       "<div>\n",
       "<style scoped>\n",
       "    .dataframe tbody tr th:only-of-type {\n",
       "        vertical-align: middle;\n",
       "    }\n",
       "\n",
       "    .dataframe tbody tr th {\n",
       "        vertical-align: top;\n",
       "    }\n",
       "\n",
       "    .dataframe thead th {\n",
       "        text-align: right;\n",
       "    }\n",
       "</style>\n",
       "<table border=\"1\" class=\"dataframe\">\n",
       "  <thead>\n",
       "    <tr style=\"text-align: right;\">\n",
       "      <th></th>\n",
       "      <th>date</th>\n",
       "      <th>index</th>\n",
       "      <th>value</th>\n",
       "    </tr>\n",
       "  </thead>\n",
       "  <tbody>\n",
       "    <tr>\n",
       "      <th>0</th>\n",
       "      <td>2025-10-02</td>\n",
       "      <td>Greed</td>\n",
       "      <td>64</td>\n",
       "    </tr>\n",
       "  </tbody>\n",
       "</table>\n",
       "</div>"
      ],
      "text/plain": [
       "        date  index value\n",
       "0 2025-10-02  Greed    64"
      ]
     },
     "execution_count": 12,
     "metadata": {},
     "output_type": "execute_result"
    }
   ],
   "source": [
    "index = figure_index(index_data)\n",
    "index"
   ]
  }
 ],
 "metadata": {
  "kernelspec": {
   "display_name": "Python 3",
   "language": "python",
   "name": "python3"
  },
  "language_info": {
   "codemirror_mode": {
    "name": "ipython",
    "version": 3
   },
   "file_extension": ".py",
   "mimetype": "text/x-python",
   "name": "python",
   "nbconvert_exporter": "python",
   "pygments_lexer": "ipython3",
   "version": "3.12.1"
  }
 },
 "nbformat": 4,
 "nbformat_minor": 5
}
