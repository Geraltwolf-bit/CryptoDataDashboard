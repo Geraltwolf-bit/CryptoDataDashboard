{
 "cells": [
  {
   "cell_type": "code",
   "execution_count": 2,
   "id": "aa6218dd",
   "metadata": {},
   "outputs": [],
   "source": [
    "import requests\n",
    "import pandas as pd\n",
    "import logging\n",
    "from datetime import datetime\n",
    "from typing import Union\n",
    "from constants import FEAR_GREED_INDEX_URL\n",
    "\n",
    "logging.basicConfig(level=logging.DEBUG)\n",
    "logger  = logging.getLogger(__name__)\n",
    "\n",
    "def get_index(\n",
    "        url: str,\n",
    "        timeout: int = 10,\n",
    "        limit: int = 10,\n",
    "        format: str = \"json\"\n",
    ") -> Union[dict, None]:\n",
    "    \"\"\"\n",
    "    Fetches the Fear and Greed Index from the specified URL.\n",
    "    Parameters:\n",
    "    - url (str): The API endpoint URL with placeholders for limit and format.\n",
    "    - timeout (int): the timeout of the http request in seconds.\n",
    "    - limit (int): the number of data points to fetch.\n",
    "    - format (str): the response format, 'json'.\n",
    "    Returns:\n",
    "    - dict or None\n",
    "    \"\"\"\n",
    "    url = url.format(limit = limit, format = format)\n",
    "    try:\n",
    "        response = requests.get(url, timeout=timeout)\n",
    "        return response.json()\n",
    "    except requests.exceptions.RequestException as e:\n",
    "        logger.error(\"Error getting fear & greed data: %s\", e)\n",
    "        return None"
   ]
  },
  {
   "cell_type": "code",
   "execution_count": 3,
   "id": "9acbd294",
   "metadata": {},
   "outputs": [
    {
     "name": "stderr",
     "output_type": "stream",
     "text": [
      "DEBUG:urllib3.connectionpool:Starting new HTTPS connection (1): api.alternative.me:443\n",
      "DEBUG:urllib3.connectionpool:https://api.alternative.me:443 \"GET /fng/?limit=1&format=json HTTP/1.1\" 200 None\n"
     ]
    },
    {
     "data": {
      "text/plain": [
       "{'name': 'Fear and Greed Index',\n",
       " 'data': [{'value': '71',\n",
       "   'value_classification': 'Greed',\n",
       "   'timestamp': '1759536000',\n",
       "   'time_until_update': '44382'}],\n",
       " 'metadata': {'error': None}}"
      ]
     },
     "execution_count": 3,
     "metadata": {},
     "output_type": "execute_result"
    }
   ],
   "source": [
    "\n",
    "index_data = get_index(FEAR_GREED_INDEX_URL, limit = 1)\n",
    "index_data"
   ]
  },
  {
   "cell_type": "code",
   "execution_count": 4,
   "id": "bc1b1c54",
   "metadata": {},
   "outputs": [],
   "source": [
    "from datetime import datetime\n",
    "\n",
    "def preprocess_index(index_data: dict) -> Union[pd.DataFrame, None]:\n",
    "    \"\"\"\n",
    "    Converts Fear and Greed Index dict into a pd.DataFrame.\n",
    "    Parameters:\n",
    "    - index_data (dict).\n",
    "    Returns:\n",
    "    - pd.DataFrame | None if input is invalid.\n",
    "    \"\"\"\n",
    "    try:\n",
    "        data_list = index_data['data']\n",
    "        df = pd.DataFrame(data_list)\n",
    "        df = df.drop(columns=['time_until_update', 'timestamp'])\n",
    "        df = df.rename(columns = {'value': 'value', 'value_classification': 'index'})\n",
    "        df['date'] = datetime.now().date()\n",
    "        df = df[['date', 'index', 'value']]\n",
    "        print(f\"date type is {type(df['date'].iloc[0])}\")\n",
    "        print(f\"data is type: {type(df)}\")\n",
    "        return df\n",
    "    except Exception as e:\n",
    "        logger.info(\"Error preprocessing fear&greed data: %s\", e)\n",
    "        return None"
   ]
  },
  {
   "cell_type": "code",
   "execution_count": 5,
   "id": "073cca34",
   "metadata": {},
   "outputs": [
    {
     "name": "stdout",
     "output_type": "stream",
     "text": [
      "date type is <class 'datetime.date'>\n",
      "data is type: <class 'pandas.core.frame.DataFrame'>\n"
     ]
    },
    {
     "data": {
      "text/html": [
       "<div>\n",
       "<style scoped>\n",
       "    .dataframe tbody tr th:only-of-type {\n",
       "        vertical-align: middle;\n",
       "    }\n",
       "\n",
       "    .dataframe tbody tr th {\n",
       "        vertical-align: top;\n",
       "    }\n",
       "\n",
       "    .dataframe thead th {\n",
       "        text-align: right;\n",
       "    }\n",
       "</style>\n",
       "<table border=\"1\" class=\"dataframe\">\n",
       "  <thead>\n",
       "    <tr style=\"text-align: right;\">\n",
       "      <th></th>\n",
       "      <th>date</th>\n",
       "      <th>index</th>\n",
       "      <th>value</th>\n",
       "    </tr>\n",
       "  </thead>\n",
       "  <tbody>\n",
       "    <tr>\n",
       "      <th>0</th>\n",
       "      <td>2025-10-04</td>\n",
       "      <td>Greed</td>\n",
       "      <td>71</td>\n",
       "    </tr>\n",
       "  </tbody>\n",
       "</table>\n",
       "</div>"
      ],
      "text/plain": [
       "         date  index value\n",
       "0  2025-10-04  Greed    71"
      ]
     },
     "execution_count": 5,
     "metadata": {},
     "output_type": "execute_result"
    }
   ],
   "source": [
    "index = preprocess_index(index_data)\n",
    "index"
   ]
  }
 ],
 "metadata": {
  "kernelspec": {
   "display_name": "venv",
   "language": "python",
   "name": "python3"
  },
  "language_info": {
   "codemirror_mode": {
    "name": "ipython",
    "version": 3
   },
   "file_extension": ".py",
   "mimetype": "text/x-python",
   "name": "python",
   "nbconvert_exporter": "python",
   "pygments_lexer": "ipython3",
   "version": "3.12.3"
  }
 },
 "nbformat": 4,
 "nbformat_minor": 5
}
