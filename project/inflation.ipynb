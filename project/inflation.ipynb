{
 "cells": [
  {
   "cell_type": "code",
   "execution_count": null,
   "id": "e7ffd9ee",
   "metadata": {},
   "outputs": [],
   "source": [
    "import os\n",
    "import requests\n",
    "import pandas as pd\n",
    "from dotenv import load_dotenv\n",
    "load_dotenv()\n",
    "\n",
    "def get_inflatioin():\n",
    "    key = os.getenv('api_key')\n",
    "    url = f\"https://api.stlouisfed.org/fred/series/observations?series_id=CPIAUCSL&api_key={key}&file_type=json&sort_order=desc\"\n",
    "    try:\n",
    "        response = requests.get(url, timeout=10)\n",
    "        response.raise_for_status()\n",
    "        raw = response.json()\n",
    "        raw = raw['observations']\n",
    "        df = pd.DataFrame(raw)\n",
    "        data = df.reset_index()[['date', 'value']].copy()\n",
    "        data = data.iloc[0:2]\n",
    "        data['value'] = pd.to_numeric(data['value'], errors = 'coerce')\n",
    "        data['date'] = pd.to_datetime(data['date'], format='%Y-%m-%d')\n",
    "        print(f\"data is type: {type(data)}\")\n",
    "        return data\n",
    "    except Exception as e:\n",
    "        print(f\"Error getting Consumer Price Index: {e}\")\n",
    "        return None"
   ]
  },
  {
   "cell_type": "code",
   "execution_count": 38,
   "id": "b079f77c",
   "metadata": {},
   "outputs": [
    {
     "data": {
      "text/html": [
       "<div>\n",
       "<style scoped>\n",
       "    .dataframe tbody tr th:only-of-type {\n",
       "        vertical-align: middle;\n",
       "    }\n",
       "\n",
       "    .dataframe tbody tr th {\n",
       "        vertical-align: top;\n",
       "    }\n",
       "\n",
       "    .dataframe thead th {\n",
       "        text-align: right;\n",
       "    }\n",
       "</style>\n",
       "<table border=\"1\" class=\"dataframe\">\n",
       "  <thead>\n",
       "    <tr style=\"text-align: right;\">\n",
       "      <th></th>\n",
       "      <th>date</th>\n",
       "      <th>value</th>\n",
       "    </tr>\n",
       "  </thead>\n",
       "  <tbody>\n",
       "    <tr>\n",
       "      <th>0</th>\n",
       "      <td>2025-08-01</td>\n",
       "      <td>323.364</td>\n",
       "    </tr>\n",
       "    <tr>\n",
       "      <th>1</th>\n",
       "      <td>2025-07-01</td>\n",
       "      <td>322.132</td>\n",
       "    </tr>\n",
       "  </tbody>\n",
       "</table>\n",
       "</div>"
      ],
      "text/plain": [
       "        date    value\n",
       "0 2025-08-01  323.364\n",
       "1 2025-07-01  322.132"
      ]
     },
     "execution_count": 38,
     "metadata": {},
     "output_type": "execute_result"
    }
   ],
   "source": [
    "cpi = get_cpi()\n",
    "cpi"
   ]
  },
  {
   "cell_type": "code",
   "execution_count": null,
   "id": "ee485c61",
   "metadata": {},
   "outputs": [],
   "source": [
    "from datetime import datetime\n",
    "\n",
    "def figure_inflation(data):\n",
    "    if data.empty:\n",
    "        print(\"No inflation data\")\n",
    "        return None\n",
    "    try:\n",
    "        estimate = 0\n",
    "        first_value = float(round(data['value'].iloc[0], 2))\n",
    "        last_value = float(round(data['value'].iloc[1], 2))\n",
    "        monthly_inflation_rate = ((first_value / last_value) - 1) * 100\n",
    "        monthly_inflation_rate = float(round(monthly_inflation_rate, 2))\n",
    "        annualized_inflation = ((1 + monthly_inflation_rate / 100) ** 12 - 1) * 100\n",
    "        annualized_inflation = float(round(annualized_inflation, 2))\n",
    "        if annualized_inflation <= 2:\n",
    "            estimate = \"Low\"\n",
    "        elif annualized_inflation <= 5:\n",
    "            estimate = \"Moderate\"\n",
    "        elif annualized_inflation > 5:\n",
    "            estimate = \"High\"\n",
    "        inflation_estimate = estimate\n",
    "        date = datetime.now().date()\n",
    "        inflation = pd.DataFrame({'date': [date], 'inflation': [inflation_estimate]})\n",
    "        print(f\"data is type: {type(inflation)}\")\n",
    "        return inflation\n",
    "    except Exception as e:\n",
    "        print(f\"Error figuring inflation: {e}\")\n",
    "        return None"
   ]
  },
  {
   "cell_type": "code",
   "execution_count": null,
   "id": "799aee3d",
   "metadata": {},
   "outputs": [],
   "source": [
    "inflation = figure_inflation(cpi)\n",
    "inflation"
   ]
  }
 ],
 "metadata": {
  "kernelspec": {
   "display_name": "Python 3",
   "language": "python",
   "name": "python3"
  },
  "language_info": {
   "codemirror_mode": {
    "name": "ipython",
    "version": 3
   },
   "file_extension": ".py",
   "mimetype": "text/x-python",
   "name": "python",
   "nbconvert_exporter": "python",
   "pygments_lexer": "ipython3",
   "version": "3.12.1"
  }
 },
 "nbformat": 4,
 "nbformat_minor": 5
}
