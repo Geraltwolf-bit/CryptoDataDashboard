{
 "cells": [
  {
   "cell_type": "code",
   "execution_count": 27,
   "id": "e7ffd9ee",
   "metadata": {},
   "outputs": [],
   "source": [
    "import requests\n",
    "import pandas as pd\n",
    "import logging\n",
    "from typing import Union\n",
    "from constants import cpi_url, api_key_cpi\n",
    "\n",
    "logging.basicConfig(level=logging.ERROR)\n",
    "logger = logging.getLogger(__name__)\n",
    "\n",
    "def get_inflation(\n",
    "        url: str,\n",
    "        key: str,\n",
    "        limit: int = 2,\n",
    "        format: str = \"json\",\n",
    "        timeout: int = 10\n",
    ") -> Union[dict, None]:\n",
    "    \"\"\"\n",
    "    Fetches the CPI index for the last two months; used to calculate inflation.\n",
    "    Parameters:\n",
    "    - url (str): The API endpoint with placeholders for key, format, and limit.\n",
    "    - key (str): API key provided by World Bank.\n",
    "    - limit (int): The number months for which to receive CPI indexes.\n",
    "    - format (str): The response format: \"json\", \"csv\", \"xml\", or \"xlsx\".\n",
    "    - timeout (int): The timeout for HTTP request in seconds.\n",
    "    Returns:\n",
    "    - dict or None.\n",
    "    \"\"\"\n",
    "\n",
    "    url = url.format(key = key, limit = limit, format = format, timeout = timeout)\n",
    "    try:\n",
    "        response = requests.get(url, timeout=10)        \n",
    "        return response.json()\n",
    "    except requests.exceptions.RequestException as e:\n",
    "        logger.error(\"Error getting fear & greed data: %s\", e)\n",
    "        return None"
   ]
  },
  {
   "cell_type": "code",
   "execution_count": 28,
   "id": "b079f77c",
   "metadata": {},
   "outputs": [
    {
     "data": {
      "text/plain": [
       "{'realtime_start': '2025-09-11',\n",
       " 'realtime_end': '2025-09-11',\n",
       " 'observation_start': '1600-01-01',\n",
       " 'observation_end': '9999-12-31',\n",
       " 'units': 'lin',\n",
       " 'output_type': 1,\n",
       " 'file_type': 'json',\n",
       " 'order_by': 'observation_date',\n",
       " 'sort_order': 'desc',\n",
       " 'count': 944,\n",
       " 'offset': 0,\n",
       " 'limit': 2,\n",
       " 'observations': [{'realtime_start': '2025-09-11',\n",
       "   'realtime_end': '2025-09-11',\n",
       "   'date': '2025-08-01',\n",
       "   'value': '323.364'},\n",
       "  {'realtime_start': '2025-09-11',\n",
       "   'realtime_end': '2025-09-11',\n",
       "   'date': '2025-07-01',\n",
       "   'value': '322.132'}]}"
      ]
     },
     "execution_count": 28,
     "metadata": {},
     "output_type": "execute_result"
    }
   ],
   "source": [
    "cpi = get_inflation(cpi_url, key = api_key_cpi)\n",
    "cpi"
   ]
  },
  {
   "cell_type": "code",
   "execution_count": 39,
   "id": "ee485c61",
   "metadata": {},
   "outputs": [],
   "source": [
    "from datetime import datetime\n",
    "\n",
    "def preprocess_inflation(cpi_data: dict) -> Union[pd.DataFrame, None]:\n",
    "    \"\"\"\n",
    "    Converts dict with cpi indexes into dataframe showing inflation estimate: \"High\", \"Moderate\", \"Low\".\n",
    "    Parameters: \n",
    "    - cpi indexes (dict).\n",
    "    Returns:\n",
    "    - pd.DataFrame containing inflation trend for the current date.\n",
    "    \"\"\"\n",
    "\n",
    "    try:\n",
    "        #enter the dict and extract only the value under the key \"observations\"\n",
    "        raw = cpi_data['observations']\n",
    "        #transform into dataframe\n",
    "        df = pd.DataFrame(raw)\n",
    "        #reset index and drop all the columns except \"date\" and \"value\"\n",
    "        data = df.reset_index()[['date', 'value']].copy()\n",
    "        #transform string \"value\" to numerical value\n",
    "        data['value'] = pd.to_numeric(data['value'], errors = 'coerce')\n",
    "        #transform \"date\" to proper date format\n",
    "        data['date'] = pd.to_datetime(data['date'], format='%Y-%m-%d')\n",
    "        #sort by \"date\" in descending order\n",
    "        data.sort_values(by = 'date', ascending=False)\n",
    "        #extract the cpi value for the recent month\n",
    "        first_value = float(round(data['value'].iloc[0], 2))\n",
    "        #extract the cpi value for the previous month\n",
    "        last_value = float(round(data['value'].iloc[1], 2))\n",
    "        #calculate monthly inflation\n",
    "        monthly_inflation_rate = ((first_value / last_value) - 1) * 100\n",
    "        #based on the monthly inflation, assume what annual inflation would be\n",
    "        annualized_inflation = ((1 + monthly_inflation_rate / 100) ** 12 - 1) * 100\n",
    "        #compare annual inflation to Central Bank target and produce estimate\n",
    "        if annualized_inflation <= 2:\n",
    "            estimate = \"Low\"\n",
    "        elif annualized_inflation <= 5:\n",
    "            estimate = \"Moderate\"\n",
    "        elif annualized_inflation > 5:\n",
    "            estimate = \"High\"\n",
    "        #get the current date\n",
    "        date = datetime.now().date()\n",
    "        #create a final dataframe with the current date and inflation estimate\n",
    "        inflation = pd.DataFrame({'date': [date], 'inflation': [estimate]})\n",
    "        return inflation\n",
    "    except Exception as e:\n",
    "        logger.info(\"Error processing data into DataFrame: %s\", e)\n",
    "        return None"
   ]
  },
  {
   "cell_type": "code",
   "execution_count": 40,
   "id": "799aee3d",
   "metadata": {},
   "outputs": [
    {
     "data": {
      "text/html": [
       "<div>\n",
       "<style scoped>\n",
       "    .dataframe tbody tr th:only-of-type {\n",
       "        vertical-align: middle;\n",
       "    }\n",
       "\n",
       "    .dataframe tbody tr th {\n",
       "        vertical-align: top;\n",
       "    }\n",
       "\n",
       "    .dataframe thead th {\n",
       "        text-align: right;\n",
       "    }\n",
       "</style>\n",
       "<table border=\"1\" class=\"dataframe\">\n",
       "  <thead>\n",
       "    <tr style=\"text-align: right;\">\n",
       "      <th></th>\n",
       "      <th>date</th>\n",
       "      <th>inflation</th>\n",
       "    </tr>\n",
       "  </thead>\n",
       "  <tbody>\n",
       "    <tr>\n",
       "      <th>0</th>\n",
       "      <td>2025-10-04</td>\n",
       "      <td>Moderate</td>\n",
       "    </tr>\n",
       "  </tbody>\n",
       "</table>\n",
       "</div>"
      ],
      "text/plain": [
       "         date inflation\n",
       "0  2025-10-04  Moderate"
      ]
     },
     "execution_count": 40,
     "metadata": {},
     "output_type": "execute_result"
    }
   ],
   "source": [
    "inflation = preprocess_inflation(cpi)\n",
    "inflation"
   ]
  }
 ],
 "metadata": {
  "kernelspec": {
   "display_name": "venv",
   "language": "python",
   "name": "python3"
  },
  "language_info": {
   "codemirror_mode": {
    "name": "ipython",
    "version": 3
   },
   "file_extension": ".py",
   "mimetype": "text/x-python",
   "name": "python",
   "nbconvert_exporter": "python",
   "pygments_lexer": "ipython3",
   "version": "3.12.3"
  }
 },
 "nbformat": 4,
 "nbformat_minor": 5
}
